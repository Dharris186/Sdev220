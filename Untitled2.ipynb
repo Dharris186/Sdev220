{
 "cells": [
  {
   "cell_type": "code",
   "execution_count": 1,
   "id": "12b5a193",
   "metadata": {},
   "outputs": [
    {
     "name": "stdout",
     "output_type": "stream",
     "text": [
      "Mozzarella\n",
      "Cinderella\n",
      "Salmonella\n"
     ]
    }
   ],
   "source": [
    "#7.4\n",
    "things = list(['mozzarella', 'cinderella','salmonella'])\n",
    "for i in things:\n",
    "    print(i.capitalize())"
   ]
  },
  {
   "cell_type": "code",
   "execution_count": 2,
   "id": "2bda910c",
   "metadata": {},
   "outputs": [
    {
     "name": "stdout",
     "output_type": "stream",
     "text": [
      "['mozzarella', 'Cinderella', 'salmonella']\n",
      "['mozzarella', 'Cinderella', 'salmonella']\n",
      "['mozzarella', 'Cinderella', 'salmonella']\n"
     ]
    }
   ],
   "source": [
    "#7.5\n",
    "things = list(['mozzarella', 'Cinderella','salmonella'])\n",
    "for i in things:\n",
    "    print(things)"
   ]
  },
  {
   "cell_type": "code",
   "execution_count": 3,
   "id": "d5896058",
   "metadata": {},
   "outputs": [
    {
     "name": "stdout",
     "output_type": "stream",
     "text": [
      "['MOZZARELLA', 'cinderella', 'salmonella']\n",
      "['MOZZARELLA', 'cinderella', 'salmonella']\n",
      "['MOZZARELLA', 'cinderella', 'salmonella']\n"
     ]
    }
   ],
   "source": [
    "#7.6\n",
    "things = list(['MOZZARELLA', 'cinderella','salmonella'])\n",
    "for i in things:\n",
    "    print(things)"
   ]
  },
  {
   "cell_type": "code",
   "execution_count": 4,
   "id": "ef5da878",
   "metadata": {},
   "outputs": [
    {
     "name": "stdout",
     "output_type": "stream",
     "text": [
      "['MOZZARELLA', 'cinderella']\n",
      "['MOZZARELLA', 'cinderella']\n"
     ]
    }
   ],
   "source": [
    "#7.7\n",
    "things = list(['MOZZARELLA', 'cinderella','salmonella'])\n",
    "things.remove('salmonella')\n",
    "for i in things:\n",
    "    print(things)"
   ]
  },
  {
   "cell_type": "code",
   "execution_count": 16,
   "id": "6d13516b",
   "metadata": {
    "scrolled": false
   },
   "outputs": [
    {
     "name": "stdout",
     "output_type": "stream",
     "text": [
      "Harry\n",
      "Ron\n",
      "Hermione\n"
     ]
    }
   ],
   "source": [
    "#9.2\n",
    "# creatin function\n",
    "def good(): \n",
    "    return ['Harry','Ron','Hermione']\n",
    "for i in good():\n",
    "    print(i)\n"
   ]
  },
  {
   "cell_type": "code",
   "execution_count": 8,
   "id": "a1bb1de8",
   "metadata": {},
   "outputs": [
    {
     "name": "stdout",
     "output_type": "stream",
     "text": [
      "[1, 3, 5, 7, 9]\n"
     ]
    }
   ],
   "source": [
    "def get_odds():\n",
    " for num in range(10):\n",
    "    if num % 2 != 0:\n",
    "        yield num\n",
    "\n",
    "print(list(get_odds()))"
   ]
  },
  {
   "cell_type": "code",
   "execution_count": null,
   "id": "5160ac65",
   "metadata": {},
   "outputs": [],
   "source": []
  }
 ],
 "metadata": {
  "kernelspec": {
   "display_name": "Python 3 (ipykernel)",
   "language": "python",
   "name": "python3"
  },
  "language_info": {
   "codemirror_mode": {
    "name": "ipython",
    "version": 3
   },
   "file_extension": ".py",
   "mimetype": "text/x-python",
   "name": "python",
   "nbconvert_exporter": "python",
   "pygments_lexer": "ipython3",
   "version": "3.10.5"
  }
 },
 "nbformat": 4,
 "nbformat_minor": 5
}
